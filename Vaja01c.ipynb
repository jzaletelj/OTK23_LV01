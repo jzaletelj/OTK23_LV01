{
 "cells": [
  {
   "attachments": {},
   "cell_type": "markdown",
   "metadata": {},
   "source": [
    "# Podatkovne strukture in algoritmi / Data Structures and Algorithms\n",
    "\n",
    "## 1.Podatkovne strukture / Data structures\n",
    "\n",
    "Pri zasnovi algoritmov in postopov je pogosto ključnega pomena tudi, kako se bodo podatki in rezultati shranjevali ter prikazovali. Medtem ko pri osnovnem programiranju pogosto srečamo primitivne ter kompozitne tipe podatkovnih struktur, kot so char, double, integer ali array, se pri narednejših pristopih uporabljajo abstraktne podatkovne strukture, kot so drevesa, vrste in grafi. Za te strukture je značilno, da imajo definirana pravila in osnovne funkcije, s pomočjo katerih jih uporabljamo, dokončna implementacija strukture pa je odvisna od sistema / programerja / opreme, ki nam je na voljo.\n",
    "\n",
    "V okviru te laboratorijske vaje se boste tako spoznali z vrsto (queue) in skladom (stack). Na ti strukturi se bomo osredotočili, ker sta pogosto prisotni v simulacijah telekomunikacijskega prometa (omrežni predpomnilnik) oziroma programskih elementov (medpomnilnik).\n",
    "\n",
    "> When designing algorithms the selection of proper data structures is of a crucial importance. Basic programming tasks often use primitive and composite data types such as *char, double, integer* or *array*. Advanced task however often rely on more complex (abstract) data structures such as *trees, queues, stack*s and *graphs*. The difference from primitive data types is that most of these data structures are simply a collection of rules and functions that can be implemented in many different ways - mostly depending on the environment / programmer / equipment used in the project.\n",
    "\n",
    "> The scope of this exercise covers the stack and the queue and examples of their use.\n",
    "\n",
    "\n",
    "## Uvoz / Importing and creating a stack / queue\n",
    "\n",
    "> In order to use the two data structures we first need to import them into our environment by running the cell bellow (shift+enter after selecting it). This gives us access to the queue (vrsta) and stack (sklad) defined for this exercise."
   ]
  },
  {
   "cell_type": "code",
   "execution_count": 6,
   "metadata": {},
   "outputs": [],
   "source": [
    "from structures import vrsta, sklad\n",
    "import numpy as np\n",
    "# %matplotlib notebook\n",
    "%matplotlib inline\n",
    "import matplotlib.pyplot as plt"
   ]
  },
  {
   "attachments": {},
   "cell_type": "markdown",
   "metadata": {},
   "source": [
    "\n",
    "Za obe podatkovni strukturi imamo na voljo dve funkciji:\n",
    "●\tFunkcija PUSH, ki na primerno mesto v podatkovni strukturi vnese nov podatek.\n",
    "●\tFunkcija POP, ki iz primernega mesta v podatkovni strukturi zbriše podatek, ter ga vrne kot rezultat.\n",
    "\n",
    "Funkcije se nahajajo v datoteki structures.py. Ne glede na uporabljeno strukturo velja, da se kot vhodni podatek vedno poda struktura, na kateri želimo funkcijo uporabiti, ter v primeru PUSH tudi podatek, ki ga želimo v strukturo vnesti. Rezultat funkcije pa je vedno spremenjena podatkovna struktura, podatek o statusu ter v primeru POP tudi podatek, ki je bil iz strukture odstranjen. \n",
    "\n",
    "> Either structure can now be created by simply using its constructor (name) and giving the information about the desired structure capacity.\n",
    "```a = vrsta(3)``` \n",
    "for example creates a queue that can hold three pieces of data and is stored under the name a.\n",
    "Each of these structures has a few core functions and attributes that we need use:\n",
    "* a.struct -> gives direct access to the list containing the data\n",
    "* a.push(x) -> adds x to the structure and returns 1 if succesfull and 0 otherwise\n",
    "* a.pop() -> removes the last element of the strucure and informs us if the structure is now empty or not\n",
    "* a.prosta_mesta -> holds information about the remaining capacitiy of the structure\n",
    "\n",
    "> Run the examples below:\n",
    "\n",
    "Preizkusili bomo delovanje podatkovnih strukture vrsta:\n"
   ]
  },
  {
   "cell_type": "code",
   "execution_count": 5,
   "metadata": {},
   "outputs": [
    {
     "name": "stdout",
     "output_type": "stream",
     "text": [
      "[None None None]\n",
      "3\n"
     ]
    }
   ],
   "source": [
    "#declare a queue with capacity for 3 elements\n",
    "a = vrsta(3) \n",
    "#print it's contents\n",
    "print(a.struct) \n",
    "#check it's capacity and print it\n",
    "print(a.prosta_mesta) \n",
    "\n",
    "#add the first number to it.\n",
    "#a.push(10) \n",
    "#a.push(20)\n",
    "#print(a.struct)\n",
    "#a.push(30)\n",
    "\n",
    "#print it's contents\n",
    "\n",
    "\n",
    "# get element and remove it from the queue\n",
    "\n",
    "\n",
    "#print(\"First element: \", element)\n",
    "#print(\"Is not empty: \", has_elements)\n",
    "\n",
    "#print(a.struct)\n",
    "\n",
    "#see what happens if we try to remove some data\n",
    "\n",
    "#and again, trying to remove data from an empty structure\n",
    "\n"
   ]
  },
  {
   "cell_type": "code",
   "execution_count": 6,
   "metadata": {},
   "outputs": [
    {
     "name": "stdout",
     "output_type": "stream",
     "text": [
      "[None None 'abc']\n"
     ]
    }
   ],
   "source": [
    "# Dodam objekte razlicnega tipa \n",
    "a.push('abc')\n",
    "print(a.struct)"
   ]
  },
  {
   "cell_type": "code",
   "execution_count": null,
   "metadata": {},
   "outputs": [],
   "source": []
  },
  {
   "cell_type": "code",
   "execution_count": null,
   "metadata": {},
   "outputs": [],
   "source": []
  },
  {
   "attachments": {},
   "cell_type": "markdown",
   "metadata": {},
   "source": [
    "## Naloga 1 / Task 1\n",
    "\n",
    "Kreirajte sklad željene velikosti, npr. 5, dodajte v sklad nekaj podatkov s push. Potem s funkcijo pop() jemljite podatke s sklada, ter ugotovite, v kakšnem vrstnem redu dobite podatke. Enako naredite za vrsto. \n",
    "\n",
    "* Ugotovite: V čem je razlika med skladom in vrsto? Kaj se zgodi, če dodamo objekt, ko je struktura že polna? \n",
    "* Kakšne parametre potrebujeta funkciji pop in push, in kakšen podatek vračata?\n",
    "\n",
    "> Declare and create a stack of you preferred size, add some data to it and check the order in which the data is retrieved when using the pop() function. In the report, describe the difference between stack and the queue. \n",
    "\n",
    "* What happens when adding new objects when the stack ( and queue) is already full?\n",
    "\n"
   ]
  },
  {
   "cell_type": "code",
   "execution_count": 7,
   "metadata": {},
   "outputs": [],
   "source": [
    "#  SKLAD / STACK \n",
    "#sk = sklad(5)\n",
    "#print(sk.struct)\n"
   ]
  },
  {
   "cell_type": "code",
   "execution_count": 18,
   "metadata": {},
   "outputs": [
    {
     "name": "stdout",
     "output_type": "stream",
     "text": [
      "[None None None None 1]\n"
     ]
    }
   ],
   "source": [
    "#sk.pop()\n",
    "#print(sk.struct)"
   ]
  },
  {
   "cell_type": "code",
   "execution_count": 10,
   "metadata": {},
   "outputs": [],
   "source": [
    "# VRSTA / QUEUE\n",
    "#v = vrsta(5)\n"
   ]
  },
  {
   "attachments": {},
   "cell_type": "markdown",
   "metadata": {},
   "source": [
    "## 2. Algoritmi / Algorithms\n",
    "\n",
    "Algoritmi so po definiciji navodilo, s katerim rešujemo problem, podano kot seznam korakov, ki nas pripeljejo do rešitve problema. V praksi to hkrati pomeni, da lahko za vsak algoritem obstaja poljubno mnogo rešitev (programov), ki ta algoritem izvajajo. Kompleksnejši algoritmi tako ponavadi tudi zahtevajo kompleksnejše tipe podatkov oziroma podatkovnih struktur, s pomočjo katerih lahko sledimo (vmesnim) rezultatom ter prikazujemo napredek postopka. Algoritme pogosto prikažemo tudi z grafom poteka korakov.\n",
    "Pravilna izbira podatkovne strukture ima tako velik vpliv na pravilno interpretacijo rezultatov. V sklopu laboratorijske vaje si bomo tako pogledali dva algoritma.\n",
    "\n",
    "> By definition algorithms are a set of rules / instructions used to solve a set problem. These instructions are a series of steps which lead us to the solution of the problem. This means that we can implement each algorithm in many different ways, depending on the environment constraints (RAM, CPU speed etc.). Complex algorithms usually require complex data structures which enable us to monitor and report the progress. Algorithms can also be presented graphically. The choice of data structures plays an important part in the interpretation of results.\n",
    "\n",
    "> We will present two algorithm implemenations - a simple number base converter and a more complex traffic buffer simulator.\n",
    "\n",
    "\n",
    "## 2.1 Pretvorba števil / Number base conversion\n",
    "\n",
    "> The following two function convert a decimal number to binary and back. Note that we used the stack data structure as it retains the bit order i.e. the first bit returned by it's pop is the most important (highest power) one."
   ]
  },
  {
   "cell_type": "code",
   "execution_count": 1,
   "metadata": {},
   "outputs": [
    {
     "name": "stdout",
     "output_type": "stream",
     "text": [
      "1\n",
      "6\n",
      "0\n"
     ]
    }
   ],
   "source": [
    "# Here we test operations %, //\n",
    "print(13 % 2)\n",
    "print(13//2)\n",
    "print(6 % 2)"
   ]
  },
  {
   "cell_type": "code",
   "execution_count": 9,
   "metadata": {},
   "outputs": [],
   "source": [
    "# Conversion to binary \n",
    "def toBinary( n, x ):\n",
    "    # n = nuber to be converted\n",
    "    # x = number of bits\n",
    "    temp = sklad(x)\n",
    "    \n",
    "    while n > 0:\n",
    "        bit = int(n%2);\n",
    "        temp.push(bit);\n",
    "        n = np.floor(n/2);\n",
    "        # print(n)\n",
    "        bit = 0;\n",
    "    return temp\n",
    "    \n",
    "# Conversion from binary to decimal number\n",
    "def toDec(biti):\n",
    "    # biti: stack containing the bits\n",
    "    cifra = 0;\n",
    "    b = [i for i,x in enumerate(biti.struct) if x != None];\n",
    "    b = len(b);\n",
    "    potenca = 2**(b-1);\n",
    "    [s,d] = biti.pop();\n",
    "    while d is not None:\n",
    "        cifra = cifra + potenca * d;\n",
    "        potenca = potenca / 2;\n",
    "        s,d = biti.pop(); \n",
    "        # print(cifra, \", \", potenca, \", bit \", d)       \n",
    "    return cifra"
   ]
  },
  {
   "cell_type": "code",
   "execution_count": 12,
   "metadata": {},
   "outputs": [],
   "source": [
    "# Convert decimal number to bits (the function returns stack structure)\n",
    "x = toBinary(145,8)\n"
   ]
  },
  {
   "cell_type": "code",
   "execution_count": 13,
   "metadata": {},
   "outputs": [
    {
     "name": "stdout",
     "output_type": "stream",
     "text": [
      "145.0\n"
     ]
    }
   ],
   "source": [
    "# Covert bits (given as stack) to number\n",
    "print(toDec(x))"
   ]
  },
  {
   "cell_type": "code",
   "execution_count": 15,
   "metadata": {},
   "outputs": [],
   "source": [
    "# Check the following example\n",
    "\n",
    "#result = toBinary(49, 4)\n",
    "#print(result.struct)\n",
    "#toDec(result)"
   ]
  },
  {
   "attachments": {},
   "cell_type": "markdown",
   "metadata": {},
   "source": [
    "## Task 2: Konverzije števil / Number base conversions\n",
    "* Izvedi teste z obema konverzijama in preveri rezultat in opiši omejitve algoritma. Preveri delovanje algoritmov in opiši podatkovno strukturo za predstavitev rezultatov.\n",
    "* Nariši programski flow algoritma.\n",
    "> * Perform tests with both algorithms and check results and limitations.\n",
    "> * Describe how they work and what are the limitations. Describe, how bits are represented in the selected data structure. \n",
    "> * Draw the workflow diagram of both algorithms.\n",
    "\n",
    "Additional tasks / Dodatne naloge (BONUS)\n",
    "* Prilagodi algoritem, da bo avtomatsko določil potrebno število bitov. \n",
    "* Napiši funkcije za pretvorbo v poljubno bazo in nazaj : toBaseN( n, x, base ) \n",
    "\n",
    "> * Consider adjusting the first algorithm so that it automatically detects the number of bits required to convert the given input\n",
    "> * Write functions to convert decimal number to any base, and back. \n",
    "\n",
    "\n"
   ]
  },
  {
   "cell_type": "code",
   "execution_count": 36,
   "metadata": {},
   "outputs": [],
   "source": [
    "#def toBaseN( n, x, base ):\n",
    "\n",
    "\n",
    "\n",
    "#def toDecN(data, base):"
   ]
  },
  {
   "cell_type": "code",
   "execution_count": null,
   "metadata": {},
   "outputs": [],
   "source": []
  },
  {
   "attachments": {},
   "cell_type": "markdown",
   "metadata": {},
   "source": [
    "## 2.2 Simulacija mrežnega prepomnilnika / Network buffer simulation\n",
    "\n",
    "Na področju telekomunikacij se prej ali slej srečamo z omrežji, prometom in povezavami med posameznimi točkami omrežja. Medtem ko se bomo z geometrijo omrežja ukvarjali v kasnejših laboratorijskih vajah, bomo v sklopu te laboratorijske vaje izdelali simulator mrežnega predpomnilnika. \n",
    "Tako v primerih strujanja videa (Youtube) kot prenosa obsežnejših datotek naletimo na uporabo medpomnilnika, ki zagotavlja boljšo uporabniško izkušnjo.\n",
    "Za namen laboratorijske vaje bomo tako pogledali nekaj različnih scenarijev uporabe medpomnilnika.\n",
    "\n",
    "> One of the most common uses of a queue is shown directly in the data structures name - queuing data packages in ICT (or any other data-collecting field). A queue at it's most basic can be used as a buffer structure that stores incoming data packages and forwards them to the server when it can process them.\n",
    "We will cover network connections and graphs in our future exercises. In this case we will only simulate a single traffic source and destination with a buffer between them.\n",
    "\n",
    "### 1. Enojni medpomnilnik brez detekcije napak / Single buffer - no fault detection\n",
    "\n",
    "Imamo en izvor, en ponor ter en medpomnilnik. Nastavljamo lahko velikost medpomnilnika ter frekvenco s katero oddajata / sprejemata izvor ter ponor. Pri tem primeru nimamo detekcije napak, tako da v primeru, ko je vrsta že polna, poslane pakete izgubimo.\n",
    "\n",
    "> In this case we will simulate a traffic source that has to send a set ammount of data packages at a constant rate. We first set the number of packages to be sent and the period between these packages (lower is faster). We also set how often the destination accepts the packages (again lower is faster)."
   ]
  },
  {
   "cell_type": "code",
   "execution_count": 60,
   "metadata": {},
   "outputs": [],
   "source": [
    "# NASTAVITVE SIMULACIJE : SETTING PARAMETERS\n",
    "\n",
    "k = 50; #number of packages to be sent\n",
    "source_rate = 1; #time delay between packages (lower number = greater transmission frequqency)\n",
    "terminus_rate = 2; #how often the packages are accepted. (lower number = greater read frequqncy)"
   ]
  },
  {
   "cell_type": "markdown",
   "metadata": {},
   "source": [
    "We then create the packages (as `k` numbers from 0 to 1), prepare an array that will store the received packages and last but not least prepare our queue - buffer.\n",
    "\n",
    "In this simulation we ignore any flags sent by the buffer - i.e. we do not know if the buffer is full or empty and whether or not we must re-send any of the data packages."
   ]
  },
  {
   "cell_type": "code",
   "execution_count": 65,
   "metadata": {},
   "outputs": [
    {
     "name": "stdout",
     "output_type": "stream",
     "text": [
      "[ 1.  2.  3.  4.  5.  6.  7.  8.  9. 10. 11. 12. 13. 14. 15. 16. 17. 18.\n",
      " 19. 20. 21. 22. 23. 24. 25. 26. 27. 28. 29. 30. 31. 32. 33. 34. 35. 36.\n",
      " 37. 38. 39. 40. 41. 42. 43. 44. 45. 46. 47. 48. 49. 50.]\n"
     ]
    }
   ],
   "source": [
    "# PODATKI IN STRUKTURE\n",
    "promet = np.linspace(1,k,k);    # traffic, generiranje prometa\n",
    "print(promet)\n",
    "cilj = [];\n",
    "\n",
    "# we prepare the buffer\n",
    "buff_size = 4;\n",
    "buff = vrsta(buff_size)\n",
    "buffer_fill = np.array([]);"
   ]
  },
  {
   "cell_type": "code",
   "execution_count": 68,
   "metadata": {
    "scrolled": true
   },
   "outputs": [
    {
     "name": "stdout",
     "output_type": "stream",
     "text": [
      "[1.0, 2.0, 3.0, 4.0, 5.0, 6.0, 7.0, 9.0, 11.0, 13.0, 15.0, 17.0, 19.0, 21.0, 23.0, 25.0, 27.0, 29.0, 31.0, 33.0, 35.0, 37.0, 39.0, 41.0, 43.0, 45.0, 47.0, 49.0]\n"
     ]
    },
    {
     "data": {
      "image/png": "[encoded data removed]",
      "text/plain": [
       "<Figure size 640x480 with 1 Axes>"
      ]
     },
     "metadata": {},
     "output_type": "display_data"
    }
   ],
   "source": [
    "# SIMULACIJA PROMETA\n",
    "\n",
    "time = 1;\n",
    "\n",
    "while True:\n",
    "    if time % source_rate == 0: #adding packages to the queue\n",
    "        if len(promet) > 0:\n",
    "            buff.push(promet[0])\n",
    "            promet = np.delete(promet,0);\n",
    "            \n",
    "    if time % terminus_rate == 0:   #reading from queue\n",
    "    \n",
    "             [status,data] = buff.pop();\n",
    "             if data is not None:\n",
    "                 cilj.append(data);\n",
    "             if len(promet) == 0 and status == 0:\n",
    "                 break;\n",
    "                 \n",
    "    x = [i for i,x in enumerate(buff.struct) if x != None]; #store info about how full the buffer is\n",
    "    #print(x)\n",
    "    buffer_fill = np.append(buffer_fill, len(x));\n",
    "    time += 1;\n",
    "\n",
    "print(cilj)\n",
    "\n",
    "#Provide info about the spent cycles and lost data\n",
    "#print( \"we spent \" , time-1, \" cycles to transmit the data\")\n",
    "#print( \"Out of \",k,\" packages we received \", len(cilj))\n",
    "#Plot\n",
    "plt.figure()\n",
    "plt.plot(buffer_fill);\n",
    "plt.show();\n",
    "\n"
   ]
  },
  {
   "cell_type": "code",
   "execution_count": 64,
   "metadata": {},
   "outputs": [
    {
     "data": {
      "text/plain": [
       "2"
      ]
     },
     "execution_count": 64,
     "metadata": {},
     "output_type": "execute_result"
    }
   ],
   "source": [
    "time"
   ]
  },
  {
   "attachments": {},
   "cell_type": "markdown",
   "metadata": {},
   "source": [
    "## Naloga 3 / Task 3: \n",
    "\n",
    "* Dodaj izračun % izgubljenih paketov. \n",
    "* Testiraj delovanje, s spreminjanjem velikosti medpomnilnika, potem hitrosti branja in pisanja, in opazuj delež izgubljenih paketov. V poročilu predstavi rezultate in jih komentiraj. \n",
    "> * Add calculation of the loss: percentage of lost packets. \n",
    "> * Perform tests by changing buffer size, writing and reading rate, and observe loss rate (% of lost packets). Find the buffer size which ensures no lost packets. \n",
    "\n",
    "\n",
    "\n"
   ]
  },
  {
   "attachments": {},
   "cell_type": "markdown",
   "metadata": {},
   "source": [
    "### 2. Medpomnilnik z detekcijo napak / Single buffer with fault detection\n",
    "\n",
    "Prejšnji primer nadgradimo tako, da dodamo detekcijo napak - torej, da vir zazna, če je medpomnilnik že poln in toliko časa ponovno pošilja trenutni paket, dokler le-ta ne dobi prostora v medpomnilniku.\n",
    "Kako to vpliva na čas, ki ga potrebujemo, da prenesemo vse pakete?\n",
    "\n",
    "> Considering that we usually do not want to lose any data packages we now upgrade our simulation by adding fault detection -> our source now checks if the sent package was safely stored in the queue or not. If it was not it keeps resending it until it gets confirmation that it was stored.\n",
    "This can of course introduce noticeable delays in our transmission but ensures that we collect all the data packages."
   ]
  },
  {
   "cell_type": "code",
   "execution_count": null,
   "metadata": {},
   "outputs": [],
   "source": []
  },
  {
   "cell_type": "code",
   "execution_count": 69,
   "metadata": {
    "scrolled": true
   },
   "outputs": [
    {
     "name": "stdout",
     "output_type": "stream",
     "text": [
      "We spent  1600  cycles to transmit all the data\n"
     ]
    },
    {
     "data": {
      "image/png": "[encoded data removed]",
      "text/plain": [
       "<Figure size 640x480 with 1 Axes>"
      ]
     },
     "metadata": {},
     "output_type": "display_data"
    }
   ],
   "source": [
    "# NASTAVITVE\n",
    "\n",
    "k = 400; #number of packages to be sent\n",
    "source_rate = 2; #time delay between packages (lower number = greater transmission frequqency)\n",
    "terminus_rate = 4; #how often the packages are accepted. (lower number = greater read frequqncy)\n",
    "\n",
    "promet = np.linspace(1,k,k);\n",
    "cilj = [];\n",
    "\n",
    "# we prepare the buffer\n",
    "\n",
    "buff_size = 50;\n",
    "buff = vrsta(buff_size)\n",
    "buffer_fill = np.array([]);\n",
    "\n",
    "# SIMULACIJA\n",
    "time = 1\n",
    "\n",
    "while True:\n",
    "    if time % source_rate == 0: #storing data packages in the queue\n",
    "        if len(promet) > 0:\n",
    "            [status] = buff.push(promet[0])\n",
    "            if status == 1:\n",
    "                promet = np.delete(promet,0);\n",
    "            \n",
    "    if time % terminus_rate == 0:   #reading from queue\n",
    "             [status,data] = buff.pop();\n",
    "             if data != None:\n",
    "                 cilj.append(data);\n",
    "             if len(promet) == 0 and status == 0:\n",
    "                 break;\n",
    "                 \n",
    "    x = [i for i,x in enumerate(buff.struct) if x != None]; #\n",
    "    buffer_fill = np.append(buffer_fill, len(x));\n",
    "    time += 1;\n",
    "\n",
    "#Print the time spent transmitting\n",
    "print (\"We spent \" , time , \" cycles to transmit all the data\")\n",
    "\n",
    "#Plot\n",
    "plt.figure()\n",
    "plt.plot(buffer_fill);\n",
    "plt.show();"
   ]
  },
  {
   "attachments": {},
   "cell_type": "markdown",
   "metadata": {},
   "source": [
    "## Naloga 4 / Task 4: \n",
    "* Izvedi testiranja tega algoritma z detekcijo napak glede na velikost medpomnilnika ter hitrosti branja in pisanja, ter ugotovi in primerjaj glede na prejšnji algoritem\n",
    "> * Perform tests by changing buffer size, writing and reading rate, and compare the transmission time to previous algorithm. \n"
   ]
  },
  {
   "cell_type": "code",
   "execution_count": null,
   "metadata": {},
   "outputs": [],
   "source": []
  }
 ],
 "metadata": {
  "kernelspec": {
   "display_name": "Python 3",
   "language": "python",
   "name": "python3"
  },
  "language_info": {
   "codemirror_mode": {
    "name": "ipython",
    "version": 3
   },
   "file_extension": ".py",
   "mimetype": "text/x-python",
   "name": "python",
   "nbconvert_exporter": "python",
   "pygments_lexer": "ipython3",
   "version": "3.10.6"
  },
  "pycharm": {
   "stem_cell": {
    "cell_type": "raw",
    "metadata": {
     "collapsed": false
    },
    "source": []
   }
  },
  "vscode": {
   "interpreter": {
    "hash": "f9b054c170a5091e78c711b969607cef481e4558d560a5a596815aab1a12e7a3"
   }
  }
 },
 "nbformat": 4,
 "nbformat_minor": 4
}
